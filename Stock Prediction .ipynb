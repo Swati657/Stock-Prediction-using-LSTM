{
 "cells": [
  {
   "cell_type": "code",
   "execution_count": 2,
   "id": "63fecf84",
   "metadata": {},
   "outputs": [],
   "source": [
    "import numpy as np \n",
    "import pandas as pd \n",
    "import matplotlib.pyplot as plt \n",
    "from sklearn.preprocessing import MinMaxScaler\n",
    "from keras.models import Sequential\n",
    "from keras.layers import Dense,LSTM,Dropout"
   ]
  },
  {
   "cell_type": "code",
   "execution_count": 3,
   "id": "e4f0a133",
   "metadata": {},
   "outputs": [
    {
     "data": {
      "text/html": [
       "<div>\n",
       "<style scoped>\n",
       "    .dataframe tbody tr th:only-of-type {\n",
       "        vertical-align: middle;\n",
       "    }\n",
       "\n",
       "    .dataframe tbody tr th {\n",
       "        vertical-align: top;\n",
       "    }\n",
       "\n",
       "    .dataframe thead th {\n",
       "        text-align: right;\n",
       "    }\n",
       "</style>\n",
       "<table border=\"1\" class=\"dataframe\">\n",
       "  <thead>\n",
       "    <tr style=\"text-align: right;\">\n",
       "      <th></th>\n",
       "      <th>Date</th>\n",
       "      <th>Open</th>\n",
       "      <th>High</th>\n",
       "      <th>Low</th>\n",
       "      <th>Close</th>\n",
       "      <th>Volume</th>\n",
       "    </tr>\n",
       "  </thead>\n",
       "  <tbody>\n",
       "    <tr>\n",
       "      <th>0</th>\n",
       "      <td>1/3/2012</td>\n",
       "      <td>325.25</td>\n",
       "      <td>332.83</td>\n",
       "      <td>324.97</td>\n",
       "      <td>663.59</td>\n",
       "      <td>7,380,500</td>\n",
       "    </tr>\n",
       "    <tr>\n",
       "      <th>1</th>\n",
       "      <td>1/4/2012</td>\n",
       "      <td>331.27</td>\n",
       "      <td>333.87</td>\n",
       "      <td>329.08</td>\n",
       "      <td>666.45</td>\n",
       "      <td>5,749,400</td>\n",
       "    </tr>\n",
       "    <tr>\n",
       "      <th>2</th>\n",
       "      <td>1/5/2012</td>\n",
       "      <td>329.83</td>\n",
       "      <td>330.75</td>\n",
       "      <td>326.89</td>\n",
       "      <td>657.21</td>\n",
       "      <td>6,590,300</td>\n",
       "    </tr>\n",
       "    <tr>\n",
       "      <th>3</th>\n",
       "      <td>1/6/2012</td>\n",
       "      <td>328.34</td>\n",
       "      <td>328.77</td>\n",
       "      <td>323.68</td>\n",
       "      <td>648.24</td>\n",
       "      <td>5,405,900</td>\n",
       "    </tr>\n",
       "    <tr>\n",
       "      <th>4</th>\n",
       "      <td>1/9/2012</td>\n",
       "      <td>322.04</td>\n",
       "      <td>322.29</td>\n",
       "      <td>309.46</td>\n",
       "      <td>620.76</td>\n",
       "      <td>11,688,800</td>\n",
       "    </tr>\n",
       "  </tbody>\n",
       "</table>\n",
       "</div>"
      ],
      "text/plain": [
       "       Date    Open    High     Low   Close      Volume\n",
       "0  1/3/2012  325.25  332.83  324.97  663.59   7,380,500\n",
       "1  1/4/2012  331.27  333.87  329.08  666.45   5,749,400\n",
       "2  1/5/2012  329.83  330.75  326.89  657.21   6,590,300\n",
       "3  1/6/2012  328.34  328.77  323.68  648.24   5,405,900\n",
       "4  1/9/2012  322.04  322.29  309.46  620.76  11,688,800"
      ]
     },
     "execution_count": 3,
     "metadata": {},
     "output_type": "execute_result"
    }
   ],
   "source": [
    "data = pd.read_csv(\"D:\\stock market\\Google_train_data.csv\")\n",
    "data.head()"
   ]
  },
  {
   "cell_type": "code",
   "execution_count": 4,
   "id": "969dd023",
   "metadata": {},
   "outputs": [
    {
     "name": "stdout",
     "output_type": "stream",
     "text": [
      "<class 'pandas.core.frame.DataFrame'>\n",
      "RangeIndex: 1258 entries, 0 to 1257\n",
      "Data columns (total 6 columns):\n",
      " #   Column  Non-Null Count  Dtype  \n",
      "---  ------  --------------  -----  \n",
      " 0   Date    1258 non-null   object \n",
      " 1   Open    1258 non-null   float64\n",
      " 2   High    1258 non-null   float64\n",
      " 3   Low     1258 non-null   float64\n",
      " 4   Close   1258 non-null   object \n",
      " 5   Volume  1258 non-null   object \n",
      "dtypes: float64(3), object(3)\n",
      "memory usage: 59.1+ KB\n"
     ]
    }
   ],
   "source": [
    "data.info()"
   ]
  },
  {
   "cell_type": "code",
   "execution_count": 5,
   "id": "8be22acd",
   "metadata": {},
   "outputs": [],
   "source": [
    "data[\"Close\"]=pd.to_numeric(data.Close,errors='coerce')\n",
    "data = data.dropna()\n",
    "trainData = data.iloc[:,4:5].values"
   ]
  },
  {
   "cell_type": "code",
   "execution_count": 6,
   "id": "2fb9c7dd",
   "metadata": {},
   "outputs": [
    {
     "name": "stdout",
     "output_type": "stream",
     "text": [
      "<class 'pandas.core.frame.DataFrame'>\n",
      "Int64Index: 1149 entries, 0 to 1257\n",
      "Data columns (total 6 columns):\n",
      " #   Column  Non-Null Count  Dtype  \n",
      "---  ------  --------------  -----  \n",
      " 0   Date    1149 non-null   object \n",
      " 1   Open    1149 non-null   float64\n",
      " 2   High    1149 non-null   float64\n",
      " 3   Low     1149 non-null   float64\n",
      " 4   Close   1149 non-null   float64\n",
      " 5   Volume  1149 non-null   object \n",
      "dtypes: float64(4), object(2)\n",
      "memory usage: 62.8+ KB\n"
     ]
    }
   ],
   "source": [
    "data.info()"
   ]
  },
  {
   "cell_type": "code",
   "execution_count": 7,
   "id": "81746755",
   "metadata": {},
   "outputs": [
    {
     "data": {
      "text/plain": [
       "(1149, 1)"
      ]
     },
     "execution_count": 7,
     "metadata": {},
     "output_type": "execute_result"
    }
   ],
   "source": [
    "sc = MinMaxScaler(feature_range=(0,1))\n",
    "trainData = sc.fit_transform(trainData)\n",
    "trainData.shape"
   ]
  },
  {
   "cell_type": "code",
   "execution_count": 8,
   "id": "4ebdf539",
   "metadata": {},
   "outputs": [],
   "source": [
    "X_train = []\n",
    "y_train = []\n",
    "\n",
    "for i in range (60,1149): \n",
    "    X_train.append(trainData[i-60:i,0]) \n",
    "    y_train.append(trainData[i,0])\n",
    "\n",
    "X_train,y_train = np.array(X_train),np.array(y_train)"
   ]
  },
  {
   "cell_type": "code",
   "execution_count": 9,
   "id": "4cce9a43",
   "metadata": {},
   "outputs": [
    {
     "data": {
      "text/plain": [
       "(1089, 60, 1)"
      ]
     },
     "execution_count": 9,
     "metadata": {},
     "output_type": "execute_result"
    }
   ],
   "source": [
    "X_train = np.reshape(X_train,(X_train.shape[0],X_train.shape[1],1)) \n",
    "X_train.shape"
   ]
  },
  {
   "cell_type": "code",
   "execution_count": 13,
   "id": "f4d64f49",
   "metadata": {},
   "outputs": [],
   "source": [
    "model = Sequential()\n",
    "\n",
    "model.add(LSTM(units=100, return_sequences = True, input_shape =(X_train.shape[1],1)))\n",
    "model.add(Dropout(0.2))\n",
    "\n",
    "model.add(LSTM(units=100, return_sequences = True))\n",
    "model.add(Dropout(0.2))\n",
    "\n",
    "model.add(LSTM(units=100, return_sequences = True))\n",
    "model.add(Dropout(0.2))\n",
    "\n",
    "model.add(LSTM(units=100, return_sequences = False))\n",
    "model.add(Dropout(0.2))\n",
    "\n",
    "model.add(Dense(units =1))\n",
    "model.compile(optimizer='adam',loss=\"mean_squared_error\")"
   ]
  },
  {
   "cell_type": "code",
   "execution_count": 11,
   "id": "926acdd8",
   "metadata": {},
   "outputs": [
    {
     "name": "stdout",
     "output_type": "stream",
     "text": [
      "Epoch 1/20\n",
      "35/35 - 12s - loss: 0.0338 - 12s/epoch - 341ms/step\n",
      "Epoch 2/20\n",
      "35/35 - 4s - loss: 0.0121 - 4s/epoch - 109ms/step\n",
      "Epoch 3/20\n",
      "35/35 - 4s - loss: 0.0101 - 4s/epoch - 111ms/step\n",
      "Epoch 4/20\n",
      "35/35 - 4s - loss: 0.0078 - 4s/epoch - 110ms/step\n",
      "Epoch 5/20\n",
      "35/35 - 4s - loss: 0.0079 - 4s/epoch - 112ms/step\n",
      "Epoch 6/20\n",
      "35/35 - 4s - loss: 0.0074 - 4s/epoch - 120ms/step\n",
      "Epoch 7/20\n",
      "35/35 - 5s - loss: 0.0070 - 5s/epoch - 144ms/step\n",
      "Epoch 8/20\n",
      "35/35 - 5s - loss: 0.0076 - 5s/epoch - 157ms/step\n",
      "Epoch 9/20\n",
      "35/35 - 5s - loss: 0.0063 - 5s/epoch - 143ms/step\n",
      "Epoch 10/20\n",
      "35/35 - 5s - loss: 0.0067 - 5s/epoch - 145ms/step\n",
      "Epoch 11/20\n",
      "35/35 - 6s - loss: 0.0061 - 6s/epoch - 165ms/step\n",
      "Epoch 12/20\n",
      "35/35 - 5s - loss: 0.0055 - 5s/epoch - 152ms/step\n",
      "Epoch 13/20\n",
      "35/35 - 5s - loss: 0.0054 - 5s/epoch - 145ms/step\n",
      "Epoch 14/20\n",
      "35/35 - 5s - loss: 0.0069 - 5s/epoch - 135ms/step\n",
      "Epoch 15/20\n",
      "35/35 - 5s - loss: 0.0055 - 5s/epoch - 131ms/step\n",
      "Epoch 16/20\n",
      "35/35 - 5s - loss: 0.0070 - 5s/epoch - 149ms/step\n",
      "Epoch 17/20\n",
      "35/35 - 5s - loss: 0.0047 - 5s/epoch - 151ms/step\n",
      "Epoch 18/20\n",
      "35/35 - 6s - loss: 0.0056 - 6s/epoch - 158ms/step\n",
      "Epoch 19/20\n",
      "35/35 - 5s - loss: 0.0057 - 5s/epoch - 140ms/step\n",
      "Epoch 20/20\n",
      "35/35 - 6s - loss: 0.0045 - 6s/epoch - 161ms/step\n"
     ]
    }
   ],
   "source": [
    "hist = model.fit(X_train, y_train, epochs = 20, batch_size = 32, verbose=2)"
   ]
  },
  {
   "cell_type": "code",
   "execution_count": 12,
   "id": "f030bd0b",
   "metadata": {},
   "outputs": [
    {
     "data": {
      "image/png": "[encoded data removed]",
      "text/plain": [
       "<Figure size 640x480 with 1 Axes>"
      ]
     },
     "metadata": {},
     "output_type": "display_data"
    }
   ],
   "source": [
    "plt.plot(hist.history['loss'])\n",
    "plt.title('Training model loss')\n",
    "plt.ylabel('loss')\n",
    "plt.xlabel('epoch')\n",
    "plt.legend(['train'], loc='upper left')\n",
    "plt.show()"
   ]
  },
  {
   "cell_type": "code",
   "execution_count": 14,
   "id": "74b64411",
   "metadata": {},
   "outputs": [
    {
     "data": {
      "text/plain": [
       "(192, 60, 1)"
      ]
     },
     "execution_count": 14,
     "metadata": {},
     "output_type": "execute_result"
    }
   ],
   "source": [
    "testData = pd.read_csv(\"D:\\stock market\\Google_test_data.csv\")\n",
    "testData[\"Close\"]=pd.to_numeric(testData.Close,errors='coerce')\n",
    "testData = testData.dropna()\n",
    "testData = testData.iloc[:,4:5]\n",
    "y_test = testData.iloc[60:,0:].values \n",
    "#input array for the model\n",
    "inputClosing = testData.iloc[:,0:].values \n",
    "inputClosing_scaled = sc.transform(inputClosing)\n",
    "inputClosing_scaled.shape\n",
    "X_test = []\n",
    "length = len(testData)\n",
    "timestep = 60\n",
    "for i in range(timestep,length):  \n",
    "    X_test.append(inputClosing_scaled[i-timestep:i,0])\n",
    "X_test = np.array(X_test)\n",
    "X_test = np.reshape(X_test,(X_test.shape[0],X_test.shape[1],1))\n",
    "X_test.shape"
   ]
  },
  {
   "cell_type": "code",
   "execution_count": 15,
   "id": "e6e17d2f",
   "metadata": {},
   "outputs": [
    {
     "name": "stdout",
     "output_type": "stream",
     "text": [
      "6/6 [==============================] - 2s 37ms/step\n"
     ]
    },
    {
     "data": {
      "text/plain": [
       "array([[-0.00928385],\n",
       "       [-0.0092565 ],\n",
       "       [-0.00925208],\n",
       "       [-0.00927389],\n",
       "       [-0.00931486],\n",
       "       [-0.00935843],\n",
       "       [-0.00939241],\n",
       "       [-0.00941348],\n",
       "       [-0.00942887],\n",
       "       [-0.00944362],\n",
       "       [-0.00944724],\n",
       "       [-0.00943545],\n",
       "       [-0.00941218],\n",
       "       [-0.00937807],\n",
       "       [-0.00934327],\n",
       "       [-0.00931408],\n",
       "       [-0.00930747],\n",
       "       [-0.00933266],\n",
       "       [-0.00939231],\n",
       "       [-0.00948623],\n",
       "       [-0.00959038],\n",
       "       [-0.0096914 ],\n",
       "       [-0.00977035],\n",
       "       [-0.00981808],\n",
       "       [-0.00983683],\n",
       "       [-0.009836  ],\n",
       "       [-0.00982361],\n",
       "       [-0.00979921],\n",
       "       [-0.00975516],\n",
       "       [-0.00969296],\n",
       "       [-0.00961561],\n",
       "       [-0.00952363],\n",
       "       [-0.00941055],\n",
       "       [-0.00927529],\n",
       "       [-0.0091431 ],\n",
       "       [-0.00903499],\n",
       "       [-0.00896022],\n",
       "       [-0.00892019],\n",
       "       [-0.00891483],\n",
       "       [-0.00893065],\n",
       "       [-0.00897357],\n",
       "       [-0.00904453],\n",
       "       [-0.00914197],\n",
       "       [-0.00925998],\n",
       "       [-0.00938899],\n",
       "       [-0.00951512],\n",
       "       [-0.00962425],\n",
       "       [-0.00971844],\n",
       "       [-0.00980178],\n",
       "       [-0.00987971],\n",
       "       [-0.00995734],\n",
       "       [-0.01002706],\n",
       "       [-0.01008416],\n",
       "       [-0.01012606],\n",
       "       [-0.01015728],\n",
       "       [-0.01017483],\n",
       "       [-0.01017452],\n",
       "       [-0.01016468],\n",
       "       [-0.01016084],\n",
       "       [-0.01017016],\n",
       "       [-0.01020111],\n",
       "       [-0.01025961],\n",
       "       [-0.01033435],\n",
       "       [-0.01040811],\n",
       "       [-0.01046772],\n",
       "       [-0.01050613],\n",
       "       [-0.01052994],\n",
       "       [-0.01054493],\n",
       "       [-0.01055553],\n",
       "       [-0.01056142],\n",
       "       [-0.01056367],\n",
       "       [-0.01056171],\n",
       "       [-0.01054979],\n",
       "       [-0.01052947],\n",
       "       [-0.01050328],\n",
       "       [-0.01047539],\n",
       "       [-0.01044946],\n",
       "       [-0.01042863],\n",
       "       [-0.01042111],\n",
       "       [-0.0104327 ],\n",
       "       [-0.01046815],\n",
       "       [-0.01052555],\n",
       "       [-0.01059439],\n",
       "       [-0.01066499],\n",
       "       [-0.01074076],\n",
       "       [-0.01082807],\n",
       "       [-0.01092769],\n",
       "       [-0.01103351],\n",
       "       [-0.01113808],\n",
       "       [-0.01123484],\n",
       "       [-0.01132331],\n",
       "       [-0.0114105 ],\n",
       "       [-0.01150136],\n",
       "       [-0.01158771],\n",
       "       [-0.01165842],\n",
       "       [-0.01170386],\n",
       "       [-0.01171672],\n",
       "       [-0.01169478],\n",
       "       [-0.01164288],\n",
       "       [-0.01157494],\n",
       "       [-0.0115046 ],\n",
       "       [-0.01144203],\n",
       "       [-0.01139551],\n",
       "       [-0.01136542],\n",
       "       [-0.01134851],\n",
       "       [-0.01133883],\n",
       "       [-0.01133344],\n",
       "       [-0.01133114],\n",
       "       [-0.01133492],\n",
       "       [-0.01134693],\n",
       "       [-0.01136874],\n",
       "       [-0.01140224],\n",
       "       [-0.01144628],\n",
       "       [-0.01150145],\n",
       "       [-0.01157041],\n",
       "       [-0.01164872],\n",
       "       [-0.01173271],\n",
       "       [-0.01182042],\n",
       "       [-0.011913  ],\n",
       "       [-0.01197752],\n",
       "       [-0.01198865],\n",
       "       [-0.01193704],\n",
       "       [-0.01183421],\n",
       "       [-0.01169772],\n",
       "       [-0.01153965],\n",
       "       [-0.01136941],\n",
       "       [-0.01119552],\n",
       "       [-0.01102682],\n",
       "       [-0.01086079],\n",
       "       [-0.01069438],\n",
       "       [-0.01054324],\n",
       "       [-0.01042387],\n",
       "       [-0.01033937],\n",
       "       [-0.01028095],\n",
       "       [-0.01024454],\n",
       "       [-0.01022733],\n",
       "       [-0.01022318],\n",
       "       [-0.01022516],\n",
       "       [-0.01022946],\n",
       "       [-0.01022878],\n",
       "       [-0.0102204 ],\n",
       "       [-0.01020021],\n",
       "       [-0.01014629],\n",
       "       [-0.01005564],\n",
       "       [-0.00993113],\n",
       "       [-0.0097825 ],\n",
       "       [-0.00962913],\n",
       "       [-0.00949174],\n",
       "       [-0.009383  ],\n",
       "       [-0.00930821],\n",
       "       [-0.00927134],\n",
       "       [-0.00927019],\n",
       "       [-0.00930166],\n",
       "       [-0.00936354],\n",
       "       [-0.0094502 ],\n",
       "       [-0.00955713],\n",
       "       [-0.00968134],\n",
       "       [-0.00981535],\n",
       "       [-0.00994189],\n",
       "       [-0.01004686],\n",
       "       [-0.01012183],\n",
       "       [-0.01016643],\n",
       "       [-0.01018956],\n",
       "       [-0.01020363],\n",
       "       [-0.01022031],\n",
       "       [-0.01024876],\n",
       "       [-0.01028708],\n",
       "       [-0.01033377],\n",
       "       [-0.01039097],\n",
       "       [-0.01045882],\n",
       "       [-0.0105348 ],\n",
       "       [-0.01061646],\n",
       "       [-0.0107009 ],\n",
       "       [-0.01078203],\n",
       "       [-0.01085466],\n",
       "       [-0.01091001],\n",
       "       [-0.01094608],\n",
       "       [-0.01096612],\n",
       "       [-0.01097108],\n",
       "       [-0.01096045],\n",
       "       [-0.01097332],\n",
       "       [-0.01102822],\n",
       "       [-0.01112315],\n",
       "       [-0.0112454 ],\n",
       "       [-0.011378  ],\n",
       "       [-0.01150191],\n",
       "       [-0.01159112],\n",
       "       [-0.01163809],\n",
       "       [-0.0116449 ],\n",
       "       [-0.01162773],\n",
       "       [-0.01159447],\n",
       "       [-0.01154663]], dtype=float32)"
      ]
     },
     "execution_count": 15,
     "metadata": {},
     "output_type": "execute_result"
    }
   ],
   "source": [
    "y_pred = model.predict(X_test)\n",
    "y_pred"
   ]
  },
  {
   "cell_type": "code",
   "execution_count": 16,
   "id": "5273754c",
   "metadata": {},
   "outputs": [],
   "source": [
    "predicted_price = sc.inverse_transform(y_pred)"
   ]
  },
  {
   "cell_type": "code",
   "execution_count": 17,
   "id": "f0e78227",
   "metadata": {},
   "outputs": [
    {
     "data": {
      "image/png": "[encoded data removed]",
      "text/plain": [
       "<Figure size 640x480 with 1 Axes>"
      ]
     },
     "metadata": {},
     "output_type": "display_data"
    }
   ],
   "source": [
    "plt.plot(y_test, color = 'red', label = 'Actual Stock Price')\n",
    "plt.plot(predicted_price, color = 'green', label = 'Predicted Stock Price')\n",
    "plt.title('Google stock price prediction')\n",
    "plt.xlabel('Time')\n",
    "plt.ylabel('Stock Price')\n",
    "plt.legend()\n",
    "plt.show()"
   ]
  },
  {
   "cell_type": "code",
   "execution_count": null,
   "id": "f55bb259",
   "metadata": {},
   "outputs": [],
   "source": []
  }
 ],
 "metadata": {
  "kernelspec": {
   "display_name": "Python 3 (ipykernel)",
   "language": "python",
   "name": "python3"
  },
  "language_info": {
   "codemirror_mode": {
    "name": "ipython",
    "version": 3
   },
   "file_extension": ".py",
   "mimetype": "text/x-python",
   "name": "python",
   "nbconvert_exporter": "python",
   "pygments_lexer": "ipython3",
   "version": "3.11.3"
  }
 },
 "nbformat": 4,
 "nbformat_minor": 5
}
